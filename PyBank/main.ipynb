{
 "cells": [
  {
   "cell_type": "code",
   "execution_count": 4,
   "id": "d0c8ce0d-9dcf-4e7a-9c30-333d67577eac",
   "metadata": {},
   "outputs": [
    {
     "name": "stdout",
     "output_type": "stream",
     "text": [
      "Financial Analysis\n",
      "--------------------------------\n",
      "Total Months: 86\n",
      "Total: $38382578.0\n",
      "Average Change: $-2315.12\n",
      "Greatest Increase in Profits: Feb-2012 ($1170593)\n",
      "Greatest Decrease in Profits: Sep-2013 ($-1196225)\n",
      "\n"
     ]
    }
   ],
   "source": [
    "import csv\n",
    "import math\n",
    "\n",
    "#initialise global variables\n",
    "total = 0\n",
    "count = 0\n",
    "max = 0\n",
    "min = 0\n",
    "min_month = \"\"\n",
    "max_month = \"\"\n",
    "average = 0\n",
    "profit_list = []\n",
    "profit_diff = []\n",
    "average_change = 0\n",
    "\n",
    "#open csv file and create a reader object to read file\n",
    "with open('budget_data.csv', 'r') as file:\n",
    "    reader = csv.reader(file)\n",
    "    header = next(reader)\n",
    "    \n",
    "    #go through every row of the budget data and find the count, total, min and max, and append the profit column to a new list\n",
    "    for row in reader:\n",
    "        profit_list.append(row[1])\n",
    "        if float(row[1]) > float(max):\n",
    "            max = row[1]\n",
    "            max_month = row[0]\n",
    "        if float(row[1]) < float(min):\n",
    "            min = row[1]\n",
    "            min_month = row[0]\n",
    "        count += 1\n",
    "        total += float(row[1])\n",
    "        \n",
    "#go through the profit list and take find the difference between two consecutive days and save it into the profit_diff list    \n",
    "for i in range(len(profit_list) - 1):\n",
    "    profit_diff.append(float(profit_list[i + 1]) - float(profit_list[i]))\n",
    "        \n",
    "average_change = math.fsum(profit_diff) / len(profit_diff)\n",
    "average = total/count\n",
    "    \n",
    "#create a string to output to the screen and file\n",
    "text = f'''Financial Analysis\n",
    "--------------------------------\n",
    "Total Months: {count}\n",
    "Total: ${total}\n",
    "Average Change: ${average_change:.2f}\n",
    "Greatest Increase in Profits: {max_month} (${max})\n",
    "Greatest Decrease in Profits: {min_month} (${min})\n",
    "'''\n",
    "print(text)\n",
    "    \n",
    "with open(\"output.txt\", 'w') as out_file:\n",
    "    out_file.write(text)\n",
    "        \n",
    "    "
   ]
  },
  {
   "cell_type": "code",
   "execution_count": null,
   "id": "be222a64-a1cd-4a46-9fc1-89c0391224ef",
   "metadata": {},
   "outputs": [],
   "source": []
  },
  {
   "cell_type": "code",
   "execution_count": null,
   "id": "32208d14-cd05-4e43-903d-74b36aa656b7",
   "metadata": {},
   "outputs": [],
   "source": []
  }
 ],
 "metadata": {
  "kernelspec": {
   "display_name": "Python 3",
   "language": "python",
   "name": "python3"
  },
  "language_info": {
   "codemirror_mode": {
    "name": "ipython",
    "version": 3
   },
   "file_extension": ".py",
   "mimetype": "text/x-python",
   "name": "python",
   "nbconvert_exporter": "python",
   "pygments_lexer": "ipython3",
   "version": "3.8.8"
  }
 },
 "nbformat": 4,
 "nbformat_minor": 5
}
