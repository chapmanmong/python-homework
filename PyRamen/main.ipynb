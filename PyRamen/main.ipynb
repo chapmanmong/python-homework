{
 "cells": [
  {
   "cell_type": "code",
   "execution_count": null,
   "id": "49e4ae84-bcf2-4b56-87cc-9bca3cbdb1f5",
   "metadata": {},
   "outputs": [],
   "source": [
    "import csv\n",
    "menu = []\n",
    "sales = []"
   ]
  },
  {
   "cell_type": "code",
   "execution_count": null,
   "id": "fbfa1e93-3482-44c2-8d29-3c7164bd016c",
   "metadata": {},
   "outputs": [],
   "source": [
    "with open(\"menu_data.csv\", \"r\") as file:\n",
    "    reader = csv.reader(file)\n",
    "    header = next(reader)\n",
    "    print(header)\n",
    "    for row in reader:\n",
    "        menu.append(row)"
   ]
  },
  {
   "cell_type": "code",
   "execution_count": null,
   "id": "4629d1ff-44b2-489c-af51-99f204ccc39c",
   "metadata": {},
   "outputs": [],
   "source": [
    "with open(\"sales_data.csv\", \"r\") as file:\n",
    "    reader = csv.reader(file)\n",
    "    header = next(reader)\n",
    "    print(header)\n",
    "    for row in reader:\n",
    "        sales.append(row)"
   ]
  },
  {
   "cell_type": "code",
   "execution_count": null,
   "id": "e4d1bb32-e2c2-427f-935d-c0dbf1e59bc9",
   "metadata": {},
   "outputs": [],
   "source": [
    "report = {}\n",
    "for row in sales:\n",
    "    quantity = row[3]\n",
    "    menu_item = row[4]\n",
    "    if menu_item not in report:\n",
    "        report[menu_item] = {\n",
    "            \"01-count\": 0,\n",
    "            \"02-revenue\": 0,\n",
    "            \"03-cogs\": 0,\n",
    "            \"04-profit\": 0\n",
    "            }"
   ]
  },
  {
   "cell_type": "code",
   "execution_count": null,
   "id": "d3559bb7-244b-4905-a51a-a276a2a003c6",
   "metadata": {},
   "outputs": [],
   "source": [
    "for row in menu:\n",
    "    item = row[0]\n",
    "    price = row[3]\n",
    "    cost = row[4]\n",
    "    quantity = 0\n",
    "    for sales_item in sales:\n",
    "        if sales_item[4] == item:\n",
    "            report[sales_item[4]][\"01-count\"] += 1\n",
    "            report[sales_item[4]][\"02-revenue\"] += price * quantity\n",
    "            report[sales_item[4]][\"03-cogs\"] += cost * quantity \n",
    "            report[sales_item[4]][\"04-profit\"] += profit * quantity\n",
    "            \n",
    "        else:\n",
    "            print(f\"{sales_item[4]} does not equal {item}! No Match\")                "
   ]
  },
  {
   "cell_type": "code",
   "execution_count": null,
   "id": "27e6edb9-ed0c-4f37-9105-1581bee04961",
   "metadata": {},
   "outputs": [],
   "source": []
  },
  {
   "cell_type": "code",
   "execution_count": null,
   "id": "99cada81-3c27-4898-89fb-903a763a698c",
   "metadata": {},
   "outputs": [],
   "source": []
  },
  {
   "cell_type": "code",
   "execution_count": null,
   "id": "51293178-2ad0-41e4-9d33-287845769bcf",
   "metadata": {},
   "outputs": [],
   "source": []
  }
 ],
 "metadata": {
  "kernelspec": {
   "display_name": "Python 3",
   "language": "python",
   "name": "python3"
  },
  "language_info": {
   "codemirror_mode": {
    "name": "ipython",
    "version": 3
   },
   "file_extension": ".py",
   "mimetype": "text/x-python",
   "name": "python",
   "nbconvert_exporter": "python",
   "pygments_lexer": "ipython3",
   "version": "3.8.8"
  }
 },
 "nbformat": 4,
 "nbformat_minor": 5
}
