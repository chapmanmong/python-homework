{
 "cells": [
  {
   "cell_type": "code",
   "execution_count": 1,
   "id": "49e4ae84-bcf2-4b56-87cc-9bca3cbdb1f5",
   "metadata": {},
   "outputs": [],
   "source": [
    "import csv\n",
    "import json\n",
    "\n",
    "#initialise variables\n",
    "menu = []\n",
    "sales = []\n",
    "report = {}"
   ]
  },
  {
   "cell_type": "code",
   "execution_count": 2,
   "id": "fbfa1e93-3482-44c2-8d29-3c7164bd016c",
   "metadata": {},
   "outputs": [
    {
     "name": "stdout",
     "output_type": "stream",
     "text": [
      "['item', 'category', 'description', 'price', 'cost']\n"
     ]
    }
   ],
   "source": [
    "#open menu csv file and use the reader object to read data and save into the menu list (list of lists)\n",
    "with open(\"menu_data.csv\", \"r\") as file:\n",
    "    reader = csv.reader(file)\n",
    "    header = next(reader)\n",
    "    print(header)\n",
    "    for row in reader:\n",
    "        menu.append(row)"
   ]
  },
  {
   "cell_type": "code",
   "execution_count": 3,
   "id": "4629d1ff-44b2-489c-af51-99f204ccc39c",
   "metadata": {},
   "outputs": [
    {
     "name": "stdout",
     "output_type": "stream",
     "text": [
      "['Line_Item_ID', 'Date', 'Credit_Card_Number', 'Quantity', 'Menu_Item']\n"
     ]
    }
   ],
   "source": [
    "#open sales csv file and use the reader object to read data and save into the sales list (list of lists)\n",
    "with open(\"sales_data.csv\", \"r\") as file:\n",
    "    reader = csv.reader(file)\n",
    "    header = next(reader)\n",
    "    print(header)\n",
    "    for row in reader:\n",
    "        sales.append(row)"
   ]
  },
  {
   "cell_type": "code",
   "execution_count": 4,
   "id": "e4d1bb32-e2c2-427f-935d-c0dbf1e59bc9",
   "metadata": {},
   "outputs": [
    {
     "name": "stdout",
     "output_type": "stream",
     "text": [
      "{'spicy miso ramen': {'01-count': 9238, '02-revenue': 110856.0, '03-cogs': 46190.0, '04-profit': 64666.0}, 'tori paitan ramen': {'01-count': 9156, '02-revenue': 119028.0, '03-cogs': 54936.0, '04-profit': 64092.0}, 'truffle butter ramen': {'01-count': 8982, '02-revenue': 125748.0, '03-cogs': 62874.0, '04-profit': 62874.0}, 'tonkotsu ramen': {'01-count': 9288, '02-revenue': 120744.0, '03-cogs': 55728.0, '04-profit': 65016.0}, 'vegetarian spicy miso': {'01-count': 9216, '02-revenue': 110592.0, '03-cogs': 46080.0, '04-profit': 64512.0}, 'shio ramen': {'01-count': 9180, '02-revenue': 100980.0, '03-cogs': 45900.0, '04-profit': 55080.0}, 'miso crab ramen': {'01-count': 8890, '02-revenue': 106680.0, '03-cogs': 53340.0, '04-profit': 53340.0}, 'nagomi shoyu': {'01-count': 9132, '02-revenue': 100452.0, '03-cogs': 45660.0, '04-profit': 54792.0}, 'soft-shell miso crab ramen': {'01-count': 9130, '02-revenue': 127820.0, '03-cogs': 63910.0, '04-profit': 63910.0}, 'burnt garlic tonkotsu ramen': {'01-count': 9070, '02-revenue': 126980.0, '03-cogs': 54420.0, '04-profit': 72560.0}, 'vegetarian curry + king trumpet mushroom ramen': {'01-count': 8824, '02-revenue': 114712.0, '03-cogs': 61768.0, '04-profit': 52944.0}}\n"
     ]
    }
   ],
   "source": [
    "#loop through the sales list and create a new dictionary entry in report for the menu item\n",
    "for row in sales:\n",
    "    quantity = int(row[3])\n",
    "    menu_item = row[4]\n",
    "    if menu_item not in report:\n",
    "        report[menu_item] = {\n",
    "            \"01-count\": 0,\n",
    "            \"02-revenue\": 0,\n",
    "            \"03-cogs\": 0,\n",
    "            \"04-profit\": 0\n",
    "            }\n",
    "    #go through the menu list and calculate the metrics, then update the dictionary    \n",
    "    for item in menu:\n",
    "        name = item[0]\n",
    "        price = float(item[3])       \n",
    "        cost = float(item[4])\n",
    "        profit = price - cost\n",
    "        #check and only update report dictionary if the \"sales item\" matches with the \"menu item\" to match the right item to the right menu item\n",
    "        if name == menu_item:\n",
    "            report[name][\"01-count\"] += quantity\n",
    "            report[name][\"02-revenue\"] += price * quantity\n",
    "            report[name][\"03-cogs\"] += cost * quantity \n",
    "            report[name][\"04-profit\"] += profit * quantity\n",
    "\n",
    "#         else:\n",
    "#             print(f\"{name} does not equal {menu_item}! No Match\")        \n",
    "\n",
    "print(report)\n",
    "\n",
    "with open(\"output.txt\", \"w\") as file:\n",
    "    file.write(str(report))"
   ]
  },
  {
   "cell_type": "code",
   "execution_count": null,
   "id": "d3559bb7-244b-4905-a51a-a276a2a003c6",
   "metadata": {},
   "outputs": [],
   "source": []
  },
  {
   "cell_type": "code",
   "execution_count": null,
   "id": "27e6edb9-ed0c-4f37-9105-1581bee04961",
   "metadata": {},
   "outputs": [],
   "source": []
  },
  {
   "cell_type": "code",
   "execution_count": null,
   "id": "99cada81-3c27-4898-89fb-903a763a698c",
   "metadata": {},
   "outputs": [],
   "source": []
  },
  {
   "cell_type": "code",
   "execution_count": null,
   "id": "51293178-2ad0-41e4-9d33-287845769bcf",
   "metadata": {},
   "outputs": [],
   "source": []
  }
 ],
 "metadata": {
  "kernelspec": {
   "display_name": "Python 3",
   "language": "python",
   "name": "python3"
  },
  "language_info": {
   "codemirror_mode": {
    "name": "ipython",
    "version": 3
   },
   "file_extension": ".py",
   "mimetype": "text/x-python",
   "name": "python",
   "nbconvert_exporter": "python",
   "pygments_lexer": "ipython3",
   "version": "3.8.8"
  }
 },
 "nbformat": 4,
 "nbformat_minor": 5
}
